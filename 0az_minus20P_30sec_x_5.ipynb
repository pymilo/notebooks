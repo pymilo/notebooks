{
 "cells": [
  {
   "cell_type": "code",
   "execution_count": 2,
   "metadata": {
    "collapsed": false
   },
   "outputs": [],
   "source": [
    "from foxsisim.module import Module\n",
    "from foxsisim.detector import Detector\n",
    "from foxsisim.source import Source\n",
    "from foxsisim.plotting import scatterHist\n",
    "import matplotlib.pyplot as plt\n",
    "import pyfits\n",
    "import pylab\n",
    "%matplotlib inline"
   ]
  },
  {
   "cell_type": "code",
   "execution_count": 3,
   "metadata": {
    "collapsed": true
   },
   "outputs": [],
   "source": [
    "# location of the fits file\n",
    "filename_data = '/Users/Kamilobu/pymilo/notebooks/0az_minus20P_30s_x_5.fits'\n",
    "\n",
    "#Reading the files\n",
    "fox  = pyfits.open(filename_data)\n",
    "\n",
    "# Each name is a numerical object, we devide data and header as:\n",
    "dataf = fox[0].data\n",
    "hdrf  = fox[0].header\n",
    "\n",
    "fdata=[]\n",
    "for i in range (0,len(dataf[:,0,0])): \n",
    "    fdata=+dataf[i,:,:]/len(dataf[:,0,0])\n",
    "\n",
    "# create module/detector/source objects using different shells\n",
    "# radii shells are [5.151,4.9,4.659,4.429,4.21,4.0,3.799]\n",
    "module = Module(radii = [5.151,4.9,4.659,4.429,4.21,4.0,3.799],\n",
    "                seglen = 30.0,\n",
    "                base = [0,0,0],\n",
    "                angles = None\n",
    "                )"
   ]
  },
  {
   "cell_type": "code",
   "execution_count": 4,
   "metadata": {
    "collapsed": true
   },
   "outputs": [],
   "source": [
    "detector = Detector(width=8, \n",
    "                    height=8,\n",
    "                    normal = [0,0,1],\n",
    "                    center = [0,0,230],\n",
    "                    reso = [1024,1024])"
   ]
  },
  {
   "cell_type": "code",
   "execution_count": 5,
   "metadata": {
    "collapsed": true
   },
   "outputs": [],
   "source": [
    "source = Source(type='point',          \n",
    "                center=[0 , -581.78 , -1e5 ],\n",
    "                color=[1,0,0])"
   ]
  },
  {
   "cell_type": "code",
   "execution_count": 10,
   "metadata": {
    "collapsed": false
   },
   "outputs": [
    {
     "name": "stdout",
     "output_type": "stream",
     "text": [
      "0 ray bounce number 1\n",
      "[-0.01549729 -0.00362416  0.99987334]\n"
     ]
    },
    {
     "data": {
      "image/png": "[encoded data removed]",
      "text/plain": [
       "<matplotlib.figure.Figure at 0x11f0b0710>"
      ]
     },
     "metadata": {},
     "output_type": "display_data"
    }
   ],
   "source": [
    "#  generate 1000 rays at source\n",
    "rays = source.generateRays(module.targetFront, 1)\n",
    "    \n",
    "# pass rays through module\n",
    "module.passRays(rays, robust=True)\n",
    "    \n",
    "# catch rays at detector\n",
    "detector.catchRays(rays)\n",
    "\n",
    "# plot the solar limb\n",
    "solarlimb = plt.Circle((512,390),123.85,color='y',fill=False)\n",
    "# Solar radius = 123.85 px = 967.6 arcsec\n",
    "# Foxsi pointing\n",
    "foxsip = plt.Circle((512,512),5,color='b')\n",
    "#flare  = plt.Circle((744.32,558.08),5,color='g')\n",
    "\n",
    "# plot the detector  \n",
    "fig1 = plt.figure(figsize=(9,9))\n",
    "axes1 = fig1.gca()\n",
    "axes1.set_position([.0,.0,1.,1.])\n",
    "fig1.gca().add_artist(solarlimb)\n",
    "fig1.gca().add_artist(foxsip)\n",
    "#fig1.gca().add_artist(flare)\n",
    "axes1.set_axis_off()\n",
    "#detector.plotImage(axes1)\n",
    "axes1.imshow(detector.pixels,cmap=plt.cm.prism)\n",
    "plt.xlim(200.,800.)\n",
    "plt.ylim(0.,600.)\n",
    "\n",
    "\n",
    "\n",
    "\n",
    "plt.show()\n"
   ]
  },
  {
   "cell_type": "code",
   "execution_count": null,
   "metadata": {
    "collapsed": true
   },
   "outputs": [],
   "source": [
    "# Scaling the overplotted image:\n",
    "scale = 0.55\n",
    "a = plt.axes([0.,0.,1.,1.], axisbg='None')\n",
    "a.set_position([.192,.383,scale,scale])\n",
    "plt.setp(a, xticks=[], yticks=[])\n",
    "a.imshow(fdata, cmap=plt.cm.gray,origin='lower',\n",
    "           vmin=fdata.min()+20,vmax=fdata.min()+30,\n",
    "           extent=([0, 1024, 0, 1024]),alpha=1.0)"
   ]
  },
  {
   "cell_type": "code",
   "execution_count": null,
   "metadata": {
    "collapsed": true
   },
   "outputs": [],
   "source": []
  },
  {
   "cell_type": "code",
   "execution_count": null,
   "metadata": {
    "collapsed": false
   },
   "outputs": [],
   "source": []
  }
 ],
 "metadata": {
  "kernelspec": {
   "display_name": "Python 2",
   "language": "python",
   "name": "python2"
  },
  "language_info": {
   "codemirror_mode": {
    "name": "ipython",
    "version": 2
   },
   "file_extension": ".py",
   "mimetype": "text/x-python",
   "name": "python",
   "nbconvert_exporter": "python",
   "pygments_lexer": "ipython2",
   "version": "2.7.12"
  }
 },
 "nbformat": 4,
 "nbformat_minor": 0
}
