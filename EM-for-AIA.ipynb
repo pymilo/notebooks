{
 "cells": [
  {
   "cell_type": "code",
   "execution_count": 32,
   "metadata": {
    "collapsed": false
   },
   "outputs": [],
   "source": [
    "import numpy as np"
   ]
  },
  {
   "cell_type": "markdown",
   "metadata": {},
   "source": [
    "### Brightening 1"
   ]
  },
  {
   "cell_type": "code",
   "execution_count": 37,
   "metadata": {
    "collapsed": false
   },
   "outputs": [
    {
     "data": {
      "text/plain": [
       "44.168961522479265"
      ]
     },
     "execution_count": 37,
     "metadata": {},
     "output_type": "execute_result"
    }
   ],
   "source": [
    "DEM_max = 38.832618025751074\n",
    "To = 1.25*10**6\n",
    "wd = 0.15\n",
    "\n",
    "LTo = np.log10(To)\n",
    "LTf = LTo + wd/2.\n",
    "LTi = LTo - wd/2.\n",
    "\n",
    "EM = (10**DEM_max/2.)*(10**LTf - 10**LTi)\n",
    "\n",
    "np.log10(EM)"
   ]
  },
  {
   "cell_type": "markdown",
   "metadata": {},
   "source": [
    "### Brightening 2"
   ]
  },
  {
   "cell_type": "code",
   "execution_count": 39,
   "metadata": {
    "collapsed": false
   },
   "outputs": [
    {
     "data": {
      "text/plain": [
       "44.43778600357156"
      ]
     },
     "execution_count": 39,
     "metadata": {},
     "output_type": "execute_result"
    }
   ],
   "source": [
    "DEM_max = 38.77272727272727\n",
    "To = 1.25*10**6\n",
    "wd = 0.14\n",
    "\n",
    "LTo = np.log10(To)\n",
    "LTf = LTo + wd/2.\n",
    "LTi = LTo - wd/2.\n",
    "\n",
    "EM = (10**DEM_max/2.)*(10**LTf - 10**LTi)\n",
    "\n",
    "np.log10(EM)"
   ]
  },
  {
   "cell_type": "markdown",
   "metadata": {},
   "source": [
    "### Brightening 3"
   ]
  },
  {
   "cell_type": "code",
   "execution_count": 40,
   "metadata": {
    "collapsed": false
   },
   "outputs": [
    {
     "data": {
      "text/plain": [
       "43.0621175543737"
      ]
     },
     "execution_count": 40,
     "metadata": {},
     "output_type": "execute_result"
    }
   ],
   "source": [
    "DEM_max = 37.39705882352941\n",
    "To = 1.41*10**6\n",
    "wd = 0.28\n",
    "\n",
    "LTo = np.log10(To)\n",
    "LTf = LTo + wd/2.\n",
    "LTi = LTo - wd/2.\n",
    "\n",
    "EM = (10**DEM_max/2.)*(10**LTf - 10**LTi)\n",
    "\n",
    "np.log10(EM)"
   ]
  },
  {
   "cell_type": "markdown",
   "metadata": {},
   "source": [
    "### Brightning 4"
   ]
  },
  {
   "cell_type": "code",
   "execution_count": 41,
   "metadata": {
    "collapsed": false
   },
   "outputs": [
    {
     "data": {
      "text/plain": [
       "43.877224508827425"
      ]
     },
     "execution_count": 41,
     "metadata": {},
     "output_type": "execute_result"
    }
   ],
   "source": [
    "DEM_max = 38.50181818181818\n",
    "To = 1.58*10**6\n",
    "wd = 0.13\n",
    "\n",
    "LTo = np.log10(To)\n",
    "LTf = LTo + wd/2.\n",
    "LTi = LTo - wd/2.\n",
    "\n",
    "EM = (10**DEM_max/2.)*(10**LTf - 10**LTi)\n",
    "\n",
    "np.log10(EM)"
   ]
  },
  {
   "cell_type": "markdown",
   "metadata": {},
   "source": [
    "### Brightening 5"
   ]
  },
  {
   "cell_type": "code",
   "execution_count": 42,
   "metadata": {
    "collapsed": false
   },
   "outputs": [
    {
     "data": {
      "text/plain": [
       "43.675968352710207"
      ]
     },
     "execution_count": 42,
     "metadata": {},
     "output_type": "execute_result"
    }
   ],
   "source": [
    "DEM_max = 38.35\n",
    "To = 1.41*10**6\n",
    "wd = 0.13\n",
    "\n",
    "LTo = np.log10(To)\n",
    "LTf = LTo + wd/2.\n",
    "LTi = LTo - wd/2.\n",
    "\n",
    "EM = (10**DEM_max/2.)*(10**LTf - 10**LTi)\n",
    "\n",
    "np.log10(EM)"
   ]
  },
  {
   "cell_type": "code",
   "execution_count": null,
   "metadata": {
    "collapsed": true
   },
   "outputs": [],
   "source": []
  }
 ],
 "metadata": {
  "anaconda-cloud": {},
  "kernelspec": {
   "display_name": "Python [conda env:ay250]",
   "language": "python",
   "name": "conda-env-ay250-py"
  },
  "language_info": {
   "codemirror_mode": {
    "name": "ipython",
    "version": 3
   },
   "file_extension": ".py",
   "mimetype": "text/x-python",
   "name": "python",
   "nbconvert_exporter": "python",
   "pygments_lexer": "ipython3",
   "version": "3.5.2"
  }
 },
 "nbformat": 4,
 "nbformat_minor": 1
}
