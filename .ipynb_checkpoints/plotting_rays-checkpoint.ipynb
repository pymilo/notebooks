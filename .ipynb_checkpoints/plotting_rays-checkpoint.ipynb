{
 "cells": [
  {
   "cell_type": "code",
   "execution_count": 5,
   "metadata": {
    "collapsed": false
   },
   "outputs": [],
   "source": [
    "%matplotlib inline\n",
    "import seaborn as sns\n",
    "import numpy as np\n",
    "from foxsisim.module import Module\n",
    "from foxsisim.detector import Detector\n",
    "from foxsisim.source import Source\n",
    "from foxsisim.plotting import scatterHist"
   ]
  },
  {
   "cell_type": "code",
   "execution_count": 6,
   "metadata": {
    "collapsed": false
   },
   "outputs": [
    {
     "name": "stdout",
     "output_type": "stream",
     "text": [
      "Module: passing  10  rays\n",
      "0 ray bounce number 1\n",
      "[-0.01014066  0.00730367  0.99992191]\n",
      "0 ray bounce number 2\n",
      "[-0.02152227  0.01550112  0.99964819]\n",
      "1 ray bounce number 1\n",
      "[ 0.00852417  0.00912298  0.99992205]\n",
      "1 ray bounce number 2\n",
      "[ 0.0181247   0.01939794  0.99964755]\n",
      "2 ray bounce number 1\n",
      "[ 0.02015569 -0.03075001  0.99932386]\n",
      "2 ray bounce number 2\n",
      "None\n",
      "2 ray killed by reflect\n",
      "3 ray bounce number 1\n",
      "[-0.01792341  0.02406621  0.99954968]\n",
      "3 ray bounce number 2\n",
      "None\n",
      "3 ray killed by reflect\n",
      "4 ray bounce number 1\n",
      "[-0.00372194  0.0108445   0.99993427]\n",
      "4 ray bounce number 2\n",
      "[-0.00767851  0.02237262  0.99972021]\n",
      "5 ray bounce number 1\n",
      "[ 0.03067397 -0.01682477  0.99938783]\n",
      "5 ray bounce number 2\n",
      "None\n",
      "5 ray killed by reflect\n",
      "6 ray bounce number 1\n",
      "[-0.02265813  0.02894959  0.99932404]\n",
      "6 ray bounce number 2\n",
      "None\n",
      "6 ray killed by reflect\n",
      "7 ray bounce number 1\n",
      "[-0.01080378 -0.0013803   0.99994068]\n",
      "7 ray bounce number 2\n",
      "[-0.02232166 -0.00285184  0.99974677]\n",
      "7 ray bounce number 3\n",
      "None\n",
      "7 ray killed by reflect\n",
      "8 ray bounce number 1\n",
      "[ -6.95128180e-04   9.77834182e-03   9.99951949e-01]\n",
      "8 ray bounce number 2\n",
      "[-0.00144618  0.02034334  0.99979201]\n",
      "9 ray bounce number 1\n",
      "[-0.0041195   0.01140511  0.99992647]\n",
      "9 ray bounce number 2\n",
      "[-0.00840353  0.02326575  0.999694  ]\n",
      "9 ray bounce number 3\n",
      "None\n",
      "9 ray killed by reflect\n"
     ]
    },
    {
     "data": {
      "image/png": "[encoded data removed]",
      "text/plain": [
       "<matplotlib.figure.Figure at 0x10d92f5c0>"
      ]
     },
     "metadata": {},
     "output_type": "display_data"
    }
   ],
   "source": [
    "module = Module()\n",
    "detector = Detector()\n",
    "\n",
    "source_distance = -1e15\n",
    "offaxis_angle_arcmin = 0.0\n",
    "aux=source_distance * np.sin(np.deg2rad(offaxis_angle_arcmin/60.0))\n",
    "\n",
    "source = Source(type='point',\n",
    "                center=[ 0.0 , aux , source_distance ],\n",
    "                color=[0,1,1])\n",
    "rays = source.generateRays(module.targetFront, 10)\n",
    "module.passRays(rays, robust=True)\n",
    "detector.catchRays(rays)\n",
    "scatterHist(rays)"
   ]
  },
  {
   "cell_type": "code",
   "execution_count": 25,
   "metadata": {
    "collapsed": false
   },
   "outputs": [
    {
     "name": "stdout",
     "output_type": "stream",
     "text": [
      "ray number: 0\n",
      "ray 0 bounces: 2\n",
      "[array([  0.00000000e+00,  -0.00000000e+00,  -1.00000000e+15]), array([ 4.30592417, -3.10128374,  5.47971116]), array([  3.83577014,  -2.76266165,  51.8393539 ]), array([ -9.44968548e-11,  -1.32773792e-10,   2.30000000e+02])]\n",
      "-----------------------\n",
      "ray number: 1\n",
      "ray 1 bounces: 2\n",
      "[array([  0.00000000e+00,  -0.00000000e+00,  -1.00000000e+15]), array([-3.62618026, -3.8809158 ,  4.69942954]), array([ -3.2190611 ,  -3.44519693,  52.45629743]), array([ -2.25876207e-10,   2.06706652e-10,   2.30000000e+02])]\n",
      "-----------------------\n",
      "ray number: 2\n",
      "ray 2 bounces: 2\n",
      "[array([  0.00000000e+00,  -0.00000000e+00,  -1.00000000e+15]), array([ -2.66492333,   4.06567221,  32.10946333]), array([ -2.66492333,   4.06567221,  32.10946333])]\n",
      "-----------------------\n",
      "ray number: 3\n",
      "ray 3 bounces: 2\n",
      "[array([  0.00000000e+00,  -0.00000000e+00,  -1.00000000e+15]), array([  2.37804622,  -3.19306287,  31.24637568]), array([  2.14995066,  -2.88679319,  43.96677321])]\n",
      "-----------------------\n",
      "ray number: 4\n",
      "ray 4 bounces: 2\n",
      "[array([  0.00000000e+00,  -0.00000000e+00,  -1.00000000e+15]), array([  1.53612435,  -4.47575653,  17.36016033]), array([  1.44483078,  -4.20975736,  41.88702774]), array([ -8.41948733e-12,  -2.91144886e-12,   2.30000000e+02])]\n",
      "-----------------------\n",
      "ray number: 5\n",
      "ray 5 bounces: 2\n",
      "[array([  0.00000000e+00,  -0.00000000e+00,  -1.00000000e+15]), array([ -4.02695975,   2.20879987,  33.77770477]), array([ -3.64720035,   2.00050066,  46.15063694])]\n",
      "-----------------------\n",
      "ray number: 6\n",
      "ray 6 bounces: 2\n",
      "[array([  0.00000000e+00,  -0.00000000e+00,  -1.00000000e+15]), array([  2.99957617,  -3.83246634,  31.80899649]), array([  2.71772387,  -3.47235231,  44.23993584])]\n",
      "-----------------------\n",
      "ray number: 7\n",
      "ray 7 bounces: 3\n",
      "[array([  0.00000000e+00,  -0.00000000e+00,  -1.00000000e+15]), array([  4.46544376,   0.57050966,  16.75109195]), array([  4.18805874,   0.53507067,  42.42438773]), array([  4.18805874,   0.53507067,  42.42438773])]\n",
      "-----------------------\n",
      "ray number: 8\n",
      "ray 8 bounces: 2\n",
      "[array([  0.00000000e+00,  -0.00000000e+00,  -1.00000000e+15]), array([  0.28929473,  -4.06949809,  13.88533337]), array([  0.26772636,  -3.76609663,  44.91174666]), array([  3.00576231e-12,  -2.40385489e-12,   2.30000000e+02])]\n",
      "-----------------------\n",
      "ray number: 9\n",
      "ray 9 bounces: 3\n",
      "[array([  0.00000000e+00,  -0.00000000e+00,  -1.00000000e+15]), array([  1.68121542,  -4.6545596 ,  21.97833144]), array([  1.61639892,  -4.47511071,  37.71124946]), array([  1.61639892,  -4.47511071,  37.71124946])]\n",
      "-----------------------\n"
     ]
    }
   ],
   "source": [
    "for ray in rays:\n",
    "    print(\"ray number: %i\" % (ray.num))\n",
    "    print(\"ray %i bounces: %i\" % (ray.num, ray.bounces) )\n",
    "    print(ray.hist)\n",
    "    #print(\"ray %i energy: %i\" % (ray.num, ray.des) )\n",
    "    print(\"-----------------------\")"
   ]
  },
  {
   "cell_type": "code",
   "execution_count": 9,
   "metadata": {
    "collapsed": false
   },
   "outputs": [
    {
     "data": {
      "text/plain": [
       "array([ -9.44968548e-11,  -2.25876207e-10,   0.00000000e+00,\n",
       "         0.00000000e+00,  -8.41948733e-12,   0.00000000e+00,\n",
       "         0.00000000e+00,   0.00000000e+00,   3.00576231e-12,\n",
       "         0.00000000e+00])"
      ]
     },
     "execution_count": 9,
     "metadata": {},
     "output_type": "execute_result"
    }
   ],
   "source": [
    "x = np.array([ray.des[0] for ray in rays])\n",
    "y = np.array([ray.des[1] for ray in rays])"
   ]
  },
  {
   "cell_type": "code",
   "execution_count": null,
   "metadata": {
    "collapsed": true
   },
   "outputs": [],
   "source": []
  }
 ],
 "metadata": {
  "anaconda-cloud": {},
  "kernelspec": {
   "display_name": "Python [ay250]",
   "language": "python",
   "name": "Python [ay250]"
  },
  "language_info": {
   "codemirror_mode": {
    "name": "ipython",
    "version": 3
   },
   "file_extension": ".py",
   "mimetype": "text/x-python",
   "name": "python",
   "nbconvert_exporter": "python",
   "pygments_lexer": "ipython3",
   "version": "3.5.2"
  }
 },
 "nbformat": 4,
 "nbformat_minor": 0
}
