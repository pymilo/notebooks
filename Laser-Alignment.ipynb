{
 "cells": [
  {
   "cell_type": "markdown",
   "metadata": {},
   "source": [
    "# Ray tracing test for the Laser alignment:"
   ]
  },
  {
   "cell_type": "markdown",
   "metadata": {},
   "source": [
    "July 21 de 2016"
   ]
  },
  {
   "cell_type": "code",
   "execution_count": 1,
   "metadata": {
    "collapsed": false
   },
   "outputs": [
    {
     "ename": "ImportError",
     "evalue": "No module named foxisim.module",
     "output_type": "error",
     "traceback": [
      "\u001b[0;31m---------------------------------------------------------------------------\u001b[0m",
      "\u001b[0;31mImportError\u001b[0m                               Traceback (most recent call last)",
      "\u001b[0;32m<ipython-input-1-a5a51a7c3a82>\u001b[0m in \u001b[0;36m<module>\u001b[0;34m()\u001b[0m\n\u001b[0;32m----> 1\u001b[0;31m \u001b[0;32mfrom\u001b[0m \u001b[0mfoxisim\u001b[0m\u001b[0;34m.\u001b[0m\u001b[0mmodule\u001b[0m \u001b[0;32mimport\u001b[0m \u001b[0mModule\u001b[0m\u001b[0;34m\u001b[0m\u001b[0m\n\u001b[0m\u001b[1;32m      2\u001b[0m \u001b[0;32mfrom\u001b[0m \u001b[0mfoxisim\u001b[0m\u001b[0;34m.\u001b[0m\u001b[0mdetector\u001b[0m \u001b[0;32mimport\u001b[0m \u001b[0mDetector\u001b[0m\u001b[0;34m\u001b[0m\u001b[0m\n\u001b[1;32m      3\u001b[0m \u001b[0;32mfrom\u001b[0m \u001b[0mfoxisim\u001b[0m\u001b[0;34m.\u001b[0m\u001b[0msource\u001b[0m \u001b[0;32mimport\u001b[0m \u001b[0mSource\u001b[0m\u001b[0;34m\u001b[0m\u001b[0m\n\u001b[1;32m      4\u001b[0m \u001b[0;32mfrom\u001b[0m \u001b[0mfoxisim\u001b[0m\u001b[0;34m.\u001b[0m\u001b[0mplotting\u001b[0m \u001b[0;32mimport\u001b[0m \u001b[0mscatterHist\u001b[0m\u001b[0;34m\u001b[0m\u001b[0m\n\u001b[1;32m      5\u001b[0m \u001b[0;32mimport\u001b[0m \u001b[0mmatplotlib\u001b[0m\u001b[0;34m.\u001b[0m\u001b[0mpyplot\u001b[0m \u001b[0;32mas\u001b[0m \u001b[0mplt\u001b[0m\u001b[0;34m\u001b[0m\u001b[0m\n",
      "\u001b[0;31mImportError\u001b[0m: No module named foxisim.module"
     ]
    }
   ],
   "source": [
    "from foxisim.module import Module\n",
    "from foxisim.detector import Detector\n",
    "from foxisim.source import Source\n",
    "from foxisim.plotting import scatterHist\n",
    "import matplotlib.pyplot as plt\n",
    "import numpy as np\n",
    "import cv2\n",
    "\n",
    "# create module/detector/source objects using defaults\n",
    "module = Module(radii = [5.151,4.9,4.659,4.429,4.21,4.0,3.799],\n",
    "                seglen = 30.0,\n",
    "                base = [0,0,0],\n",
    "                angles = None)\n",
    "\n",
    "detector = Detector(width=8, \n",
    "                    height=8,\n",
    "                    normal = [0,0,1],\n",
    "                    #20.32\n",
    "                    #center = [0,0,230],\n",
    "                    center = [0,0,227.46],\n",
    "                    reso = [1024,1024])\n",
    "\n",
    "#source = Source()\n",
    "\n",
    "#source = Source(type='point',          \n",
    "#                center=[ 0 , 0 , -2300 ],\n",
    "#                color=[1,1,1])\n",
    "\n",
    "source = Source(width=1.,          # a 1 micron\n",
    "                 height=1.,         # by 1 micron\n",
    "                 type='nonpoint',       # non-point source (a square region)\n",
    "                 center=[1.37,0,-2350],  # centered at [x=5,y=-8,z=20000]\n",
    "                 color=[0,1,0])         # and colored light blue\n",
    "\n",
    "# 0.0 arcmin = 0.00\n",
    "# 0.5 acrmin = 0.34\n",
    "# 1.0 arcmin = 0.68\n",
    "# 1.5 arcmin = 1.03\n",
    "# 2.0 arcmin = 1.37\n",
    "\n",
    "\n",
    "#  generate 1000 rays at source\n",
    "rays = source.generateRays(module.targetFront, 50000)\n",
    "    \n",
    "# pass rays through module\n",
    "module.passRays(rays, robust=True)\n",
    "    \n",
    "# catch rays at detector\n",
    "detector.catchRays(rays)\n",
    "\n",
    "## plot the detector  \n",
    "#fig1 = plt.figure(figsize=(8,8))\n",
    "#axes1 = fig1.gca()\n",
    "#axes1.set_axis_off()\n",
    "#detector.plotImage(axes1)\n",
    "\n"
   ]
  },
  {
   "cell_type": "code",
   "execution_count": 3,
   "metadata": {
    "collapsed": false
   },
   "outputs": [
    {
     "ename": "NameError",
     "evalue": "name 'plt' is not defined",
     "output_type": "error",
     "traceback": [
      "\u001b[0;31m---------------------------------------------------------------------------\u001b[0m",
      "\u001b[0;31mNameError\u001b[0m                                 Traceback (most recent call last)",
      "\u001b[0;32m<ipython-input-3-731bafb5d982>\u001b[0m in \u001b[0;36m<module>\u001b[0;34m()\u001b[0m\n\u001b[0;32m----> 1\u001b[0;31m \u001b[0mfig\u001b[0m \u001b[0;34m=\u001b[0m \u001b[0mplt\u001b[0m\u001b[0;34m.\u001b[0m\u001b[0mfigure\u001b[0m\u001b[0;34m(\u001b[0m\u001b[0mfigsize\u001b[0m\u001b[0;34m=\u001b[0m\u001b[0;34m(\u001b[0m\u001b[0;36m7\u001b[0m\u001b[0;34m,\u001b[0m\u001b[0;36m7\u001b[0m\u001b[0;34m)\u001b[0m\u001b[0;34m,\u001b[0m \u001b[0mdpi\u001b[0m\u001b[0;34m=\u001b[0m\u001b[0;36m100\u001b[0m\u001b[0;34m)\u001b[0m\u001b[0;34m\u001b[0m\u001b[0m\n\u001b[0m\u001b[1;32m      2\u001b[0m \u001b[0;34m\u001b[0m\u001b[0m\n\u001b[1;32m      3\u001b[0m \u001b[0mx\u001b[0m \u001b[0;34m=\u001b[0m \u001b[0mnp\u001b[0m\u001b[0;34m.\u001b[0m\u001b[0marray\u001b[0m\u001b[0;34m(\u001b[0m\u001b[0;34m[\u001b[0m\u001b[0mray\u001b[0m\u001b[0;34m.\u001b[0m\u001b[0mdes\u001b[0m\u001b[0;34m[\u001b[0m\u001b[0;36m0\u001b[0m\u001b[0;34m]\u001b[0m \u001b[0;32mfor\u001b[0m \u001b[0mray\u001b[0m \u001b[0;32min\u001b[0m \u001b[0mrays\u001b[0m\u001b[0;34m]\u001b[0m\u001b[0;34m)\u001b[0m\u001b[0;34m\u001b[0m\u001b[0m\n\u001b[1;32m      4\u001b[0m \u001b[0my\u001b[0m \u001b[0;34m=\u001b[0m \u001b[0mnp\u001b[0m\u001b[0;34m.\u001b[0m\u001b[0marray\u001b[0m\u001b[0;34m(\u001b[0m\u001b[0;34m[\u001b[0m\u001b[0mray\u001b[0m\u001b[0;34m.\u001b[0m\u001b[0mdes\u001b[0m\u001b[0;34m[\u001b[0m\u001b[0;36m1\u001b[0m\u001b[0;34m]\u001b[0m \u001b[0;32mfor\u001b[0m \u001b[0mray\u001b[0m \u001b[0;32min\u001b[0m \u001b[0mrays\u001b[0m\u001b[0;34m]\u001b[0m\u001b[0;34m)\u001b[0m\u001b[0;34m\u001b[0m\u001b[0m\n\u001b[1;32m      5\u001b[0m \u001b[0;34m\u001b[0m\u001b[0m\n",
      "\u001b[0;31mNameError\u001b[0m: name 'plt' is not defined"
     ]
    }
   ],
   "source": [
    "fig = plt.figure(figsize=(7,7), dpi=100)\n",
    "\n",
    "x = np.array([ray.des[0] for ray in rays])\n",
    "y = np.array([ray.des[1] for ray in rays])\n",
    "\n",
    "# Defining colors:\n",
    "colors = []\n",
    "for ray in rays:\n",
    "        if ray.bounces == 1: col = 'r' # red\n",
    "        elif ray.bounces == 2: col = 'g' # green\n",
    "        elif ray.bounces == 3: col = 'b' # blue\n",
    "        else: col = 'k' # black\n",
    "        colors.append(col)\n",
    "\n",
    "# definitions for the axes \n",
    "left, width = 0.1, 0.8\n",
    "bottom, height = 0.1, 0.8\n",
    "rect_scatter = [left, bottom, width, height]\n",
    "axScatter = fig.add_axes(rect_scatter)\n",
    "\n",
    "axScatter.scatter(x,y,c=colors)\n",
    "\n",
    "plt.title('Conic approximation')\n",
    "lg = plt.Circle((0.,2.55),.05,color='g') # Single bounce photons\n",
    "fig.gca().add_artist(lg)\n",
    "plt.text(.2,2.5,'Single bounce photons',rotation=0)\n",
    "\n",
    "lg = plt.Circle((0.,2.25),.05,color='b') # Double bounce photons\n",
    "fig.gca().add_artist(lg)\n",
    "plt.text(.2,2.2,'Double bounce photons',rotation=0)\n",
    "extraticks=[-2.5,-1.5,-0.5,0.5,1.5,2.5]\n",
    "plt.xticks(list(plt.xticks()[0]) + extraticks)\n",
    "plt.yticks(list(plt.xticks()[0]) + extraticks)\n",
    "plt.grid()\n",
    "\n",
    "plt.show()"
   ]
  },
  {
   "cell_type": "code",
   "execution_count": 24,
   "metadata": {
    "collapsed": false
   },
   "outputs": [],
   "source": [
    "# plot the detector  \n",
    "fig1 = plt.figure(figsize=(9,9))\n",
    "axes1 = fig1.gca()\n",
    "axes1.set_axis_off()\n",
    "detector.plotImage(axes1)\n",
    "\n",
    "plt.show()\n"
   ]
  },
  {
   "cell_type": "code",
   "execution_count": null,
   "metadata": {
    "collapsed": false
   },
   "outputs": [],
   "source": []
  }
 ],
 "metadata": {
  "kernelspec": {
   "display_name": "Python 2",
   "language": "python",
   "name": "python2"
  },
  "language_info": {
   "codemirror_mode": {
    "name": "ipython",
    "version": 2
   },
   "file_extension": ".py",
   "mimetype": "text/x-python",
   "name": "python",
   "nbconvert_exporter": "python",
   "pygments_lexer": "ipython2",
   "version": "2.7.12"
  }
 },
 "nbformat": 4,
 "nbformat_minor": 0
}
