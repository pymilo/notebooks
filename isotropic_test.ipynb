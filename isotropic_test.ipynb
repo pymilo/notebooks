{
 "metadata": {
  "name": "",
  "signature": "sha256:677803a21b67bf98402d714e406f9d3a65347ab33ba9357d00050df39a674532"
 },
 "nbformat": 3,
 "nbformat_minor": 0,
 "worksheets": [
  {
   "cells": [
    {
     "cell_type": "code",
     "collapsed": false,
     "input": [
      "from foxsisim.module import Module\n",
      "from foxsisim.detector import Detector\n",
      "from foxsisim.source import Source\n",
      "from foxsisim.plotting import scatterHist\n",
      "from foxsisim.plotting import plot\n",
      "from foxsisim.plotting import Histcolor\n",
      "import matplotlib.pyplot as plt\n",
      "#%matplotlib inline\n",
      "import numpy as np\n",
      "import matplotlib.cm as cm"
     ],
     "language": "python",
     "metadata": {},
     "outputs": [
      {
       "ename": "ImportError",
       "evalue": "No module named foxsisim.module",
       "output_type": "pyerr",
       "traceback": [
        "\u001b[0;31m---------------------------------------------------------------------------\u001b[0m\n\u001b[0;31mImportError\u001b[0m                               Traceback (most recent call last)",
        "\u001b[0;32m<ipython-input-1-42d9b2c114d8>\u001b[0m in \u001b[0;36m<module>\u001b[0;34m()\u001b[0m\n\u001b[0;32m----> 1\u001b[0;31m \u001b[0;32mfrom\u001b[0m \u001b[0mfoxsisim\u001b[0m\u001b[0;34m.\u001b[0m\u001b[0mmodule\u001b[0m \u001b[0;32mimport\u001b[0m \u001b[0mModule\u001b[0m\u001b[0;34m\u001b[0m\u001b[0m\n\u001b[0m\u001b[1;32m      2\u001b[0m \u001b[0;32mfrom\u001b[0m \u001b[0mfoxsisim\u001b[0m\u001b[0;34m.\u001b[0m\u001b[0mdetector\u001b[0m \u001b[0;32mimport\u001b[0m \u001b[0mDetector\u001b[0m\u001b[0;34m\u001b[0m\u001b[0m\n\u001b[1;32m      3\u001b[0m \u001b[0;32mfrom\u001b[0m \u001b[0mfoxsisim\u001b[0m\u001b[0;34m.\u001b[0m\u001b[0msource\u001b[0m \u001b[0;32mimport\u001b[0m \u001b[0mSource\u001b[0m\u001b[0;34m\u001b[0m\u001b[0m\n\u001b[1;32m      4\u001b[0m \u001b[0;32mfrom\u001b[0m \u001b[0mfoxsisim\u001b[0m\u001b[0;34m.\u001b[0m\u001b[0mplotting\u001b[0m \u001b[0;32mimport\u001b[0m \u001b[0mscatterHist\u001b[0m\u001b[0;34m\u001b[0m\u001b[0m\n\u001b[1;32m      5\u001b[0m \u001b[0;32mfrom\u001b[0m \u001b[0mfoxsisim\u001b[0m\u001b[0;34m.\u001b[0m\u001b[0mplotting\u001b[0m \u001b[0;32mimport\u001b[0m \u001b[0mplot\u001b[0m\u001b[0;34m\u001b[0m\u001b[0m\n",
        "\u001b[0;31mImportError\u001b[0m: No module named foxsisim.module"
       ]
      }
     ],
     "prompt_number": 1
    },
    {
     "cell_type": "code",
     "collapsed": false,
     "input": [
      "module = Module(radii=[5.151],\n",
      "                seglen=30.0,\n",
      "                base=[0,0,0],\n",
      "                focal=200,\n",
      "                angles=None,\n",
      "                conic=False,\n",
      "                core_radius=2.856)#2.856\n",
      "\n",
      "detector = Detector(width=3.96,#0.96 \n",
      "                    height=3.96,#0.96\n",
      "                    normal=[0,0,1],\n",
      "                    center=[0,0,230.0],\n",
      "                    reso =[128,128])\n",
      "source_distance = -2187.5\n",
      "offaxis_angle_arcmin = 0.0\n",
      "\n",
      "source = Source(type='point',\n",
      "                center=[ source_distance * np.sin(np.deg2rad(offaxis_angle_arcmin/60.0)) , 0.0 , source_distance ])\n",
      "\n",
      "\n",
      "rays = source.generateRays(module.targetFront, 1000, z=0.0)\n",
      "module.passRays(rays, robust=True)\n",
      "detector.catchRays(rays)"
     ],
     "language": "python",
     "metadata": {},
     "outputs": [],
     "prompt_number": 2
    },
    {
     "cell_type": "code",
     "collapsed": false,
     "input": [
      "from foxsisim.plotting import get3dAxes\n",
      "fig2 = plt.figure(figsize=(5, 5))\n",
      "axes2 = get3dAxes(fig2)\n",
      "module.plot3D(axes2, detector.rays ,'k')\n",
      "plt.show()"
     ],
     "language": "python",
     "metadata": {},
     "outputs": [],
     "prompt_number": 3
    },
    {
     "cell_type": "code",
     "collapsed": false,
     "input": [
      "x = [ray.hist[1][0] for ray in detector.rays]\n",
      "y = [ray.hist[1][1] for ray in detector.rays]\n",
      "ang = [ray.ang for ray in detector.rays]\n",
      "plt.scatter(x, y, c=ang, cmap = cm.jet)\n",
      "plt.colorbar()"
     ],
     "language": "python",
     "metadata": {},
     "outputs": [
      {
       "metadata": {},
       "output_type": "pyout",
       "prompt_number": 4,
       "text": [
        "<matplotlib.colorbar.Colorbar instance at 0x10d1b0518>"
       ]
      }
     ],
     "prompt_number": 4
    },
    {
     "cell_type": "code",
     "collapsed": false,
     "input": [
      "#plot(detector)\n",
      "#scatterHist(detector.rays)\n",
      "plt.show()"
     ],
     "language": "python",
     "metadata": {},
     "outputs": [],
     "prompt_number": 5
    },
    {
     "cell_type": "code",
     "collapsed": false,
     "input": [],
     "language": "python",
     "metadata": {},
     "outputs": [],
     "prompt_number": 5
    }
   ],
   "metadata": {}
  }
 ]
}