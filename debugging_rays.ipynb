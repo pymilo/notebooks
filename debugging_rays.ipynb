{
 "metadata": {
  "name": "",
  "signature": "sha256:d674ddef481e435f3ea50251907f0f6ebd0f6c3b129341122e63d4e500c864ae"
 },
 "nbformat": 3,
 "nbformat_minor": 0,
 "worksheets": [
  {
   "cells": [
    {
     "cell_type": "code",
     "collapsed": false,
     "input": [
      "import foxsisim\n",
      "from foxsisim.module import Module\n",
      "from foxsisim.detector import Detector\n",
      "from foxsisim.source import Source\n",
      "from foxsisim.plotting import scatterHist\n",
      "import matplotlib.pyplot as plt\n",
      "from foxsisim.plotting import plot\n",
      "import numpy as np\n",
      "#get_ipython().magic(u'matplotlib inline')"
     ],
     "language": "python",
     "metadata": {},
     "outputs": [],
     "prompt_number": 1
    },
    {
     "cell_type": "code",
     "collapsed": false,
     "input": [
      "module = Module(radii=[5.151],\n",
      "                seglen=30.0,\n",
      "                base=[0,0,0],\n",
      "                focal=200,\n",
      "                angles=None,\n",
      "                conic=False,\n",
      "                core_radius=2.856)#2.856\n",
      "\n",
      "detector = Detector(width=3.96,#0.96 \n",
      "                    height=3.96,#0.96\n",
      "                    normal=[0,0,1],\n",
      "                    center=[0,0,230.0],\n",
      "                    reso =[128,128])\n",
      "source_distance = -2187.5\n",
      "offaxis_angle_arcmin = 1.0\n",
      "\n",
      "source = Source(type='point',\n",
      "                center=[ source_distance * np.sin(np.deg2rad(offaxis_angle_arcmin/60.0)) , 0.0 , source_distance ]\n",
      "                )\n",
      "\n",
      "#source = Source(type='atinf',          \n",
      "#                center=[ source_distance * np.sin(np.deg2rad(offaxis_angle_arcmin/60.0)) , 0.0 , -10 ],\n",
      "#                color=[0,1,1],\n",
      "#                width=15,\n",
      "#                height=15)\n",
      "rays = source.generateRays(module.targetFront, 200)\n",
      "module.passRays(rays, robust=True)\n",
      "detector.catchRays(rays)"
     ],
     "language": "python",
     "metadata": {},
     "outputs": [],
     "prompt_number": 2
    },
    {
     "cell_type": "code",
     "collapsed": false,
     "input": [
      "#for ray in rays:\n",
      "#    if ray.bounces == 3:\n",
      "#        print ray.hist\n",
      "#        print ray.bounces\n",
      "#for ray in detector.rays:\n",
      "#    print ray.bounces"
     ],
     "language": "python",
     "metadata": {},
     "outputs": [],
     "prompt_number": 3
    },
    {
     "cell_type": "code",
     "collapsed": false,
     "input": [
      "#for ray in detector.rays:\n",
      "#    print ray.bounces"
     ],
     "language": "python",
     "metadata": {},
     "outputs": [],
     "prompt_number": 4
    },
    {
     "cell_type": "code",
     "collapsed": false,
     "input": [
      "plot(detector)\n",
      "scatterHist(detector.rays)\n",
      "plt.show()"
     ],
     "language": "python",
     "metadata": {},
     "outputs": [],
     "prompt_number": 5
    },
    {
     "cell_type": "code",
     "collapsed": false,
     "input": [
      "#from foxsisim.plotting import get3dAxes\n",
      "#fig2 = plt.figure(figsize=(5, 5))\n",
      "#axes2 = get3dAxes(fig2)\n",
      "#module.plot3D(axes2, detector.rays ,'k')\n",
      "#plt.show()"
     ],
     "language": "python",
     "metadata": {},
     "outputs": [],
     "prompt_number": 6
    },
    {
     "cell_type": "code",
     "collapsed": false,
     "input": [
      "from foxsisim.plotting import get3dAxes\n",
      "fig2 = plt.figure(figsize=(5, 5))\n",
      "axes2 = get3dAxes(fig2)\n",
      "rays3=[ray for ray in rays if ray.bounces==3]\n",
      "module.plot3D(axes2, rays3 ,'k')\n",
      "plt.show()"
     ],
     "language": "python",
     "metadata": {},
     "outputs": [],
     "prompt_number": 7
    },
    {
     "cell_type": "code",
     "collapsed": false,
     "input": [
      "from foxsisim.plotting import get3dAxes\n",
      "fig2 = plt.figure(figsize=(5, 5))\n",
      "axes2 = get3dAxes(fig2)\n",
      "rays3=[ray for ray in rays if ray.bounces==2]\n",
      "module.plot3D(axes2, rays3 ,'k')\n",
      "plt.show()"
     ],
     "language": "python",
     "metadata": {},
     "outputs": [
      {
       "ename": "IndexError",
       "evalue": "list index out of range",
       "output_type": "pyerr",
       "traceback": [
        "\u001b[0;31m---------------------------------------------------------------------------\u001b[0m\n\u001b[0;31mIndexError\u001b[0m                                Traceback (most recent call last)",
        "\u001b[0;32m<ipython-input-8-e4ccf40f3d41>\u001b[0m in \u001b[0;36m<module>\u001b[0;34m()\u001b[0m\n\u001b[1;32m      3\u001b[0m \u001b[0maxes2\u001b[0m \u001b[0;34m=\u001b[0m \u001b[0mget3dAxes\u001b[0m\u001b[0;34m(\u001b[0m\u001b[0mfig2\u001b[0m\u001b[0;34m)\u001b[0m\u001b[0;34m\u001b[0m\u001b[0m\n\u001b[1;32m      4\u001b[0m \u001b[0mrays3\u001b[0m\u001b[0;34m=\u001b[0m\u001b[0;34m[\u001b[0m\u001b[0mray\u001b[0m \u001b[0;32mfor\u001b[0m \u001b[0mray\u001b[0m \u001b[0;32min\u001b[0m \u001b[0mrays\u001b[0m \u001b[0;32mif\u001b[0m \u001b[0mray\u001b[0m\u001b[0;34m.\u001b[0m\u001b[0mbounces\u001b[0m\u001b[0;34m==\u001b[0m\u001b[0;36m2\u001b[0m\u001b[0;34m]\u001b[0m\u001b[0;34m\u001b[0m\u001b[0m\n\u001b[0;32m----> 5\u001b[0;31m \u001b[0mmodule\u001b[0m\u001b[0;34m.\u001b[0m\u001b[0mplot3D\u001b[0m\u001b[0;34m(\u001b[0m\u001b[0maxes2\u001b[0m\u001b[0;34m,\u001b[0m \u001b[0mrays3\u001b[0m \u001b[0;34m,\u001b[0m\u001b[0;34m'k'\u001b[0m\u001b[0;34m)\u001b[0m\u001b[0;34m\u001b[0m\u001b[0m\n\u001b[0m\u001b[1;32m      6\u001b[0m \u001b[0mplt\u001b[0m\u001b[0;34m.\u001b[0m\u001b[0mshow\u001b[0m\u001b[0;34m(\u001b[0m\u001b[0;34m)\u001b[0m\u001b[0;34m\u001b[0m\u001b[0m\n",
        "\u001b[0;32m/Users/Kamilobu/pymilo/foxsi-optics-sim/src/foxsisim/module.pyc\u001b[0m in \u001b[0;36mplot3D\u001b[0;34m(self, axes, rays, color)\u001b[0m\n\u001b[1;32m    251\u001b[0m             \u001b[0mshell\u001b[0m\u001b[0;34m.\u001b[0m\u001b[0mplot3D\u001b[0m\u001b[0;34m(\u001b[0m\u001b[0maxes\u001b[0m\u001b[0;34m,\u001b[0m \u001b[0mcolor\u001b[0m\u001b[0;34m)\u001b[0m\u001b[0;34m\u001b[0m\u001b[0m\n\u001b[1;32m    252\u001b[0m         \u001b[0;32mfor\u001b[0m \u001b[0mray\u001b[0m \u001b[0;32min\u001b[0m \u001b[0mrays\u001b[0m\u001b[0;34m:\u001b[0m\u001b[0;34m\u001b[0m\u001b[0m\n\u001b[0;32m--> 253\u001b[0;31m             \u001b[0mray\u001b[0m\u001b[0;34m.\u001b[0m\u001b[0mplot3D\u001b[0m\u001b[0;34m(\u001b[0m\u001b[0maxes\u001b[0m\u001b[0;34m,\u001b[0m\u001b[0mray\u001b[0m\u001b[0;34m,\u001b[0m\u001b[0mcolor\u001b[0m\u001b[0;34m=\u001b[0m\u001b[0;34m'y'\u001b[0m\u001b[0;34m)\u001b[0m\u001b[0;34m\u001b[0m\u001b[0m\n\u001b[0m\u001b[1;32m    254\u001b[0m         \u001b[0;32mif\u001b[0m \u001b[0mself\u001b[0m\u001b[0;34m.\u001b[0m\u001b[0mshield\u001b[0m \u001b[0;32mis\u001b[0m \u001b[0;32mnot\u001b[0m \u001b[0mNone\u001b[0m\u001b[0;34m:\u001b[0m\u001b[0;34m\u001b[0m\u001b[0m\n\u001b[1;32m    255\u001b[0m             \u001b[0;32mfor\u001b[0m \u001b[0mcore\u001b[0m \u001b[0;32min\u001b[0m \u001b[0mself\u001b[0m\u001b[0;34m.\u001b[0m\u001b[0mcoreFaces\u001b[0m\u001b[0;34m:\u001b[0m\u001b[0;34m\u001b[0m\u001b[0m\n",
        "\u001b[0;32m/Users/Kamilobu/pymilo/foxsi-optics-sim/src/foxsisim/ray.pyc\u001b[0m in \u001b[0;36mplot3D\u001b[0;34m(self, axes, ray, color)\u001b[0m\n\u001b[1;32m    105\u001b[0m             \u001b[0mb1\u001b[0m \u001b[0;34m=\u001b[0m \u001b[0mray\u001b[0m\u001b[0;34m.\u001b[0m\u001b[0mhist\u001b[0m\u001b[0;34m[\u001b[0m\u001b[0;36m1\u001b[0m\u001b[0;34m]\u001b[0m\u001b[0;34m\u001b[0m\u001b[0m\n\u001b[1;32m    106\u001b[0m             \u001b[0mb2\u001b[0m \u001b[0;34m=\u001b[0m \u001b[0mray\u001b[0m\u001b[0;34m.\u001b[0m\u001b[0mhist\u001b[0m\u001b[0;34m[\u001b[0m\u001b[0;36m2\u001b[0m\u001b[0;34m]\u001b[0m\u001b[0;34m\u001b[0m\u001b[0m\n\u001b[0;32m--> 107\u001b[0;31m             \u001b[0mdes\u001b[0m \u001b[0;34m=\u001b[0m \u001b[0mray\u001b[0m\u001b[0;34m.\u001b[0m\u001b[0mhist\u001b[0m\u001b[0;34m[\u001b[0m\u001b[0;36m3\u001b[0m\u001b[0;34m]\u001b[0m\u001b[0;34m\u001b[0m\u001b[0m\n\u001b[0m\u001b[1;32m    108\u001b[0m             axes.plot3D([src[0],b1[0],b2[0],des[0]],\n\u001b[1;32m    109\u001b[0m                         \u001b[0;34m[\u001b[0m\u001b[0msrc\u001b[0m\u001b[0;34m[\u001b[0m\u001b[0;36m1\u001b[0m\u001b[0;34m]\u001b[0m\u001b[0;34m,\u001b[0m\u001b[0mb1\u001b[0m\u001b[0;34m[\u001b[0m\u001b[0;36m1\u001b[0m\u001b[0;34m]\u001b[0m\u001b[0;34m,\u001b[0m\u001b[0mb2\u001b[0m\u001b[0;34m[\u001b[0m\u001b[0;36m1\u001b[0m\u001b[0;34m]\u001b[0m\u001b[0;34m,\u001b[0m\u001b[0mdes\u001b[0m\u001b[0;34m[\u001b[0m\u001b[0;36m1\u001b[0m\u001b[0;34m]\u001b[0m\u001b[0;34m]\u001b[0m\u001b[0;34m,\u001b[0m\u001b[0;34m\u001b[0m\u001b[0m\n",
        "\u001b[0;31mIndexError\u001b[0m: list index out of range"
       ]
      }
     ],
     "prompt_number": 8
    },
    {
     "cell_type": "code",
     "collapsed": false,
     "input": [
      "for ray in rays:\n",
      "    if ray.bounces == 1:\n",
      "        if not ray.dead:\n",
      "            print ray.hist\n",
      "            print ray.num"
     ],
     "language": "python",
     "metadata": {},
     "outputs": []
    },
    {
     "cell_type": "code",
     "collapsed": false,
     "input": [],
     "language": "python",
     "metadata": {},
     "outputs": []
    },
    {
     "cell_type": "code",
     "collapsed": false,
     "input": [],
     "language": "python",
     "metadata": {},
     "outputs": []
    },
    {
     "cell_type": "code",
     "collapsed": false,
     "input": [],
     "language": "python",
     "metadata": {},
     "outputs": []
    }
   ],
   "metadata": {}
  }
 ]
}