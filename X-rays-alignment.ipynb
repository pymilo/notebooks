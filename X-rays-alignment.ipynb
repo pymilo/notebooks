{
 "cells": [
  {
   "cell_type": "markdown",
   "metadata": {},
   "source": [
    "# Ray tracing test for the X-rays alignment:¶"
   ]
  },
  {
   "cell_type": "code",
   "execution_count": 2,
   "metadata": {
    "collapsed": false
   },
   "outputs": [],
   "source": [
    "%matplotlib inline\n",
    "from foxsisim.module import Module\n",
    "from foxsisim.detector import Detector\n",
    "from foxsisim.source import Source\n",
    "from foxsisim.plotting import scatterHist\n",
    "import matplotlib.pyplot as plt\n",
    "import numpy as np\n",
    "\n",
    "# create module of 7 shells\n",
    "module = Module()\n",
    "#module = Module(radii = [5.151,4.9,4.659,4.429,4.21,4.0,3.799],\n",
    "#                seglen = 30.0,\n",
    "#                base = [0,0,0],\n",
    "#                angles = None)\n",
    "\n",
    "#detector = Detector(width=8, \n",
    "#                    height=8,\n",
    "#                    normal = [0,0,1],\n",
    "#                    center = [0,0,229.6],\n",
    "#                    reso = [1024,1024])\n",
    "\n",
    "#source = Source()\n",
    "\n",
    "#source = Source(type='point',          \n",
    "#                center=[ 0.1 , 0. , -2187.5 ],\n",
    "#                color=[0,1,1])\n",
    "\n",
    "#source = Source(width=.28,            # 0.28 cm\n",
    "#                 height=.28,          # 0.28 cm\n",
    "#                 type='nonpoint',     # non-point source (a square region)\n",
    "#                 center=[0,0,-2055],  # centered at [x=5,y=-8,z=20000]\n",
    "#                 color=[0,1,1])       # and colored light green\n",
    "\n",
    "# 0.0 arcmin = 0.0\n",
    "# 0.5 arcmin = \n",
    "# 1.0 arcmin = 0.636\n",
    "# 1.5 arcmin = \n",
    "# 2.0 arcmin = \n",
    "\n",
    "\n",
    "##  generate 1000 rays at source\n",
    "#rays = source.generateRays(module.targetFront, 5000)\n",
    "    \n",
    "## pass rays through module\n",
    "#module.passRays(rays, robust=True)\n",
    "    \n",
    "## catch rays at detector\n",
    "#detector.catchRays(rays)\n",
    "\n",
    "# plot the detector  \n",
    "#fig1 = plt.figure(figsize=(8,8))\n",
    "#axes1 = fig1.gca()\n",
    "#axes1.set_axis_off()\n",
    "#detector.plotImage(axes1)\n",
    "#plt.show()\n"
   ]
  },
  {
   "cell_type": "code",
   "execution_count": 3,
   "metadata": {
    "collapsed": false
   },
   "outputs": [
    {
     "ename": "NameError",
     "evalue": "name 'rays' is not defined",
     "output_type": "error",
     "traceback": [
      "\u001b[0;31m---------------------------------------------------------------------------\u001b[0m",
      "\u001b[0;31mNameError\u001b[0m                                 Traceback (most recent call last)",
      "\u001b[0;32m<ipython-input-3-3e3ed8724cb3>\u001b[0m in \u001b[0;36m<module>\u001b[0;34m()\u001b[0m\n\u001b[1;32m      1\u001b[0m \u001b[0mfig\u001b[0m \u001b[0;34m=\u001b[0m \u001b[0mplt\u001b[0m\u001b[0;34m.\u001b[0m\u001b[0mfigure\u001b[0m\u001b[0;34m(\u001b[0m\u001b[0mfigsize\u001b[0m\u001b[0;34m=\u001b[0m\u001b[0;34m(\u001b[0m\u001b[0;36m7\u001b[0m\u001b[0;34m,\u001b[0m\u001b[0;36m7\u001b[0m\u001b[0;34m)\u001b[0m\u001b[0;34m,\u001b[0m \u001b[0mdpi\u001b[0m\u001b[0;34m=\u001b[0m\u001b[0;36m100\u001b[0m\u001b[0;34m)\u001b[0m\u001b[0;34m\u001b[0m\u001b[0m\n\u001b[1;32m      2\u001b[0m \u001b[0;34m\u001b[0m\u001b[0m\n\u001b[0;32m----> 3\u001b[0;31m \u001b[0mx\u001b[0m \u001b[0;34m=\u001b[0m \u001b[0mnp\u001b[0m\u001b[0;34m.\u001b[0m\u001b[0marray\u001b[0m\u001b[0;34m(\u001b[0m\u001b[0;34m[\u001b[0m\u001b[0mray\u001b[0m\u001b[0;34m.\u001b[0m\u001b[0mdes\u001b[0m\u001b[0;34m[\u001b[0m\u001b[0;36m0\u001b[0m\u001b[0;34m]\u001b[0m \u001b[0;32mfor\u001b[0m \u001b[0mray\u001b[0m \u001b[0;32min\u001b[0m \u001b[0mrays\u001b[0m\u001b[0;34m]\u001b[0m\u001b[0;34m)\u001b[0m\u001b[0;34m\u001b[0m\u001b[0m\n\u001b[0m\u001b[1;32m      4\u001b[0m \u001b[0my\u001b[0m \u001b[0;34m=\u001b[0m \u001b[0mnp\u001b[0m\u001b[0;34m.\u001b[0m\u001b[0marray\u001b[0m\u001b[0;34m(\u001b[0m\u001b[0;34m[\u001b[0m\u001b[0mray\u001b[0m\u001b[0;34m.\u001b[0m\u001b[0mdes\u001b[0m\u001b[0;34m[\u001b[0m\u001b[0;36m1\u001b[0m\u001b[0;34m]\u001b[0m \u001b[0;32mfor\u001b[0m \u001b[0mray\u001b[0m \u001b[0;32min\u001b[0m \u001b[0mrays\u001b[0m\u001b[0;34m]\u001b[0m\u001b[0;34m)\u001b[0m\u001b[0;34m\u001b[0m\u001b[0m\n\u001b[1;32m      5\u001b[0m \u001b[0;34m\u001b[0m\u001b[0m\n",
      "\u001b[0;31mNameError\u001b[0m: name 'rays' is not defined"
     ]
    },
    {
     "data": {
      "text/plain": [
       "<matplotlib.figure.Figure at 0x10991aad0>"
      ]
     },
     "metadata": {},
     "output_type": "display_data"
    }
   ],
   "source": [
    "fig = plt.figure(figsize=(7,7), dpi=100)\n",
    "\n",
    "x = np.array([ray.des[0] for ray in rays])\n",
    "y = np.array([ray.des[1] for ray in rays])\n",
    "\n",
    "# Defining colors:\n",
    "colors = []\n",
    "for ray in rays:\n",
    "        if ray.bounces == 1: col = 'r' # red\n",
    "        elif ray.bounces == 2: col = 'g' # green\n",
    "        elif ray.bounces == 3: col = 'b' # blue\n",
    "        else: col = 'k' # black\n",
    "        colors.append(col)\n",
    "\n",
    "# definitions for the axes \n",
    "left, width = 0.1, 0.8\n",
    "bottom, height = 0.1, 0.8\n",
    "rect_scatter = [left, bottom, width, height]\n",
    "axScatter = fig.add_axes(rect_scatter)\n",
    "        \n",
    "axScatter.scatter(x,y,c=colors)\n",
    "\n",
    "plt.title('X-rays alignment - simulation')\n",
    "\n",
    "#lg = plt.Circle((0.,.25),.05,color='g') # Single bounce photons\n",
    "#fig.gca().add_artist(lg)\n",
    "#plt.text(.2,.2,'Single bounce photons',rotation=0)\n",
    "\n",
    "#lg = plt.Circle((0.,.25),.05,color='b') # Double bounce photons\n",
    "#fig.gca().add_artist(lg)\n",
    "#plt.text(.2,2.2,'Double bounce photons',rotation=0)\n",
    "\n",
    "plt.grid()\n",
    "plt.show()"
   ]
  },
  {
   "cell_type": "code",
   "execution_count": 5,
   "metadata": {
    "collapsed": false
   },
   "outputs": [],
   "source": []
  },
  {
   "cell_type": "code",
   "execution_count": null,
   "metadata": {
    "collapsed": false
   },
   "outputs": [],
   "source": []
  }
 ],
 "metadata": {
  "kernelspec": {
   "display_name": "Python 2",
   "language": "python",
   "name": "python2"
  },
  "language_info": {
   "codemirror_mode": {
    "name": "ipython",
    "version": 2
   },
   "file_extension": ".py",
   "mimetype": "text/x-python",
   "name": "python",
   "nbconvert_exporter": "python",
   "pygments_lexer": "ipython2",
   "version": "2.7.12"
  }
 },
 "nbformat": 4,
 "nbformat_minor": 0
}
